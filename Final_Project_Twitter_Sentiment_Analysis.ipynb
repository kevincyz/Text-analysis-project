{
  "nbformat": 4,
  "nbformat_minor": 0,
  "metadata": {
    "colab": {
      "provenance": [],
      "gpuType": "T4",
      "collapsed_sections": [
        "b6Dx1C59n_au",
        "_ne1_ebeN6Iw",
        "O35Fe_fBObHe",
        "_0opKTo9OedO",
        "kDBgcdNpkbkp",
        "6rJT8q0XkWy5",
        "R2P6RwHflpeg",
        "_1i11GfNlv-p",
        "7gfp0rqcmHkw"
      ]
    },
    "kernelspec": {
      "name": "python3",
      "display_name": "Python 3"
    },
    "language_info": {
      "name": "python"
    },
    "accelerator": "GPU"
  },
  "cells": [
    {
      "cell_type": "markdown",
      "source": [
        "### Section 0: Data Preprocessing"
      ],
      "metadata": {
        "id": "b6Dx1C59n_au"
      }
    },
    {
      "cell_type": "markdown",
      "source": [
        "Import Libraries"
      ],
      "metadata": {
        "id": "egU20idOIM2h"
      }
    },
    {
      "cell_type": "code",
      "source": [
        "import os\n",
        "import sys\n",
        "from tempfile import NamedTemporaryFile\n",
        "from urllib.request import urlopen\n",
        "from urllib.parse import unquote, urlparse\n",
        "from urllib.error import HTTPError\n",
        "from zipfile import ZipFile\n",
        "import tarfile\n",
        "import shutil\n",
        "\n",
        "CHUNK_SIZE = 40960\n",
        "DATA_SOURCE_MAPPING = 'sentiment140:https%3A%2F%2Fstorage.googleapis.com%2Fkaggle-data-sets%2F2477%2F4140%2Fbundle%2Farchive.zip%3FX-Goog-Algorithm%3DGOOG4-RSA-SHA256%26X-Goog-Credential%3Dgcp-kaggle-com%2540kaggle-161607.iam.gserviceaccount.com%252F20240501%252Fauto%252Fstorage%252Fgoog4_request%26X-Goog-Date%3D20240501T002711Z%26X-Goog-Expires%3D259200%26X-Goog-SignedHeaders%3Dhost%26X-Goog-Signature%3D17e3689186fa40cf932f79f0529acc322c495ae05b1f5dbf2279d60d60d4155e28beb3c22063169f76e8cfed9a7653f2fdadd665fe0a1b70ae6c11fe620b3ce41bafcc69364f1bdb90157d087cac8f6b36a4f80766edfbefdd86febe3879794f6e24a7423e9a46473f64ecfbb3b3f06e2acf45b185600be9a3e8d0b0d0fcc6afe54e2c86a00815bf3a2dacfcd5d85d7b03f2a6ee0200629963775be61d52850077675b0d97a20678896a774384e3d06a343a19e241d3bdda67469f40490b56c6df865b21234bc629359962b5bc4e55153d38531a901be81c2fc2e783326656f714e56559f5c112589c6668b8bf0cfb1ab5d24370e36b31eb990b1e0047c3c1ca'\n",
        "\n",
        "KAGGLE_INPUT_PATH='/kaggle/input'\n",
        "KAGGLE_WORKING_PATH='/kaggle/working'\n",
        "KAGGLE_SYMLINK='kaggle'\n",
        "\n",
        "!umount /kaggle/input/ 2> /dev/null\n",
        "shutil.rmtree('/kaggle/input', ignore_errors=True)\n",
        "os.makedirs(KAGGLE_INPUT_PATH, 0o777, exist_ok=True)\n",
        "os.makedirs(KAGGLE_WORKING_PATH, 0o777, exist_ok=True)\n",
        "\n",
        "try:\n",
        "  os.symlink(KAGGLE_INPUT_PATH, os.path.join(\"..\", 'input'), target_is_directory=True)\n",
        "except FileExistsError:\n",
        "  pass\n",
        "try:\n",
        "  os.symlink(KAGGLE_WORKING_PATH, os.path.join(\"..\", 'working'), target_is_directory=True)\n",
        "except FileExistsError:\n",
        "  pass\n",
        "\n",
        "for data_source_mapping in DATA_SOURCE_MAPPING.split(','):\n",
        "    directory, download_url_encoded = data_source_mapping.split(':')\n",
        "    download_url = unquote(download_url_encoded)\n",
        "    filename = urlparse(download_url).path\n",
        "    destination_path = os.path.join(KAGGLE_INPUT_PATH, directory)\n",
        "    try:\n",
        "        with urlopen(download_url) as fileres, NamedTemporaryFile() as tfile:\n",
        "            total_length = fileres.headers['content-length']\n",
        "            print(f'Downloading {directory}, {total_length} bytes compressed')\n",
        "            dl = 0\n",
        "            data = fileres.read(CHUNK_SIZE)\n",
        "            while len(data) > 0:\n",
        "                dl += len(data)\n",
        "                tfile.write(data)\n",
        "                done = int(50 * dl / int(total_length))\n",
        "                sys.stdout.write(f\"\\r[{'=' * done}{' ' * (50-done)}] {dl} bytes downloaded\")\n",
        "                sys.stdout.flush()\n",
        "                data = fileres.read(CHUNK_SIZE)\n",
        "            if filename.endswith('.zip'):\n",
        "              with ZipFile(tfile) as zfile:\n",
        "                zfile.extractall(destination_path)\n",
        "            else:\n",
        "              with tarfile.open(tfile.name) as tarfile:\n",
        "                tarfile.extractall(destination_path)\n",
        "            print(f'\\nDownloaded and uncompressed: {directory}')\n",
        "    except HTTPError as e:\n",
        "        print(f'Failed to load (likely expired) {download_url} to path {destination_path}')\n",
        "        continue\n",
        "    except OSError as e:\n",
        "        print(f'Failed to load {download_url} to path {destination_path}')\n",
        "        continue\n",
        "\n",
        "print('Data source import complete.')"
      ],
      "metadata": {
        "colab": {
          "base_uri": "https://localhost:8080/"
        },
        "id": "zoNVGoBDIN9T",
        "outputId": "bc6ca91d-d377-4648-a6ea-05fddb4d284b"
      },
      "execution_count": null,
      "outputs": [
        {
          "output_type": "stream",
          "name": "stdout",
          "text": [
            "Downloading sentiment140, 84855679 bytes compressed\n",
            "[==================================================] 84855679 bytes downloaded\n",
            "Downloaded and uncompressed: sentiment140\n",
            "Data source import complete.\n"
          ]
        }
      ]
    },
    {
      "cell_type": "code",
      "source": [
        "import numpy as np\n",
        "import pandas as pd\n",
        "import seaborn as sns\n",
        "import matplotlib.pyplot as plt\n",
        "plt.style.use('ggplot')\n",
        "from sklearn.metrics import roc_curve, auc\n",
        "from sklearn.metrics import classification_report, confusion_matrix\n",
        "import nltk\n",
        "from nltk.corpus import stopwords\n",
        "from nltk.stem import PorterStemmer\n",
        "from sklearn.model_selection import train_test_split\n",
        "from mlxtend.plotting import plot_confusion_matrix\n",
        "import matplotlib.cm as cm\n",
        "from matplotlib import rcParams\n",
        "from collections import Counter\n",
        "from nltk.tokenize import RegexpTokenizer\n",
        "import re\n",
        "import string\n",
        "from tensorflow.keras.layers import LSTM, Activation, Dense, Dropout, Input, Embedding\n",
        "from tensorflow.keras.models import Model\n",
        "from tensorflow.keras.optimizers import RMSprop\n",
        "from tensorflow.keras.preprocessing.text import Tokenizer\n",
        "from tensorflow.keras.preprocessing import sequence\n",
        "%matplotlib inline\n",
        "\n",
        "import warnings\n",
        "warnings.filterwarnings(\"ignore\")"
      ],
      "metadata": {
        "id": "d-MQohfVMUY2"
      },
      "execution_count": null,
      "outputs": []
    },
    {
      "cell_type": "markdown",
      "source": [
        "Load Data"
      ],
      "metadata": {
        "id": "GiJNfevGIy5r"
      }
    },
    {
      "cell_type": "code",
      "source": [
        "data = pd.read_csv(\"/kaggle/input/sentiment140/training.1600000.processed.noemoticon.csv\", encoding = \"ISO-8859-1\", engine=\"python\")\n",
        "data.columns = [\"label\", \"time\", \"date\", \"query\", \"username\", \"text\"]"
      ],
      "metadata": {
        "id": "30mvhX8YIz23"
      },
      "execution_count": null,
      "outputs": []
    },
    {
      "cell_type": "markdown",
      "source": [
        "Data Overview"
      ],
      "metadata": {
        "id": "96AIKn-eo7Ox"
      }
    },
    {
      "cell_type": "code",
      "source": [
        "print(data.head())\n",
        "print(data.tail())\n",
        "print(data.columns)\n",
        "print('lenght of data is', len(data))\n",
        "print(data.shape)\n",
        "print(data.info())\n",
        "print(data.dtypes)"
      ],
      "metadata": {
        "id": "m7XoOzqMJpz9",
        "colab": {
          "base_uri": "https://localhost:8080/"
        },
        "outputId": "89211d34-b17d-4e7b-e724-69e455c956ee"
      },
      "execution_count": null,
      "outputs": [
        {
          "output_type": "stream",
          "name": "stdout",
          "text": [
            "   label        time                          date     query       username  \\\n",
            "0      0  1467810672  Mon Apr 06 22:19:49 PDT 2009  NO_QUERY  scotthamilton   \n",
            "1      0  1467810917  Mon Apr 06 22:19:53 PDT 2009  NO_QUERY       mattycus   \n",
            "2      0  1467811184  Mon Apr 06 22:19:57 PDT 2009  NO_QUERY        ElleCTF   \n",
            "3      0  1467811193  Mon Apr 06 22:19:57 PDT 2009  NO_QUERY         Karoli   \n",
            "4      0  1467811372  Mon Apr 06 22:20:00 PDT 2009  NO_QUERY       joy_wolf   \n",
            "\n",
            "                                                text  \n",
            "0  is upset that he can't update his Facebook by ...  \n",
            "1  @Kenichan I dived many times for the ball. Man...  \n",
            "2    my whole body feels itchy and like its on fire   \n",
            "3  @nationwideclass no, it's not behaving at all....  \n",
            "4                      @Kwesidei not the whole crew   \n",
            "         label        time                          date     query  \\\n",
            "1599994      4  2193601966  Tue Jun 16 08:40:49 PDT 2009  NO_QUERY   \n",
            "1599995      4  2193601969  Tue Jun 16 08:40:49 PDT 2009  NO_QUERY   \n",
            "1599996      4  2193601991  Tue Jun 16 08:40:49 PDT 2009  NO_QUERY   \n",
            "1599997      4  2193602064  Tue Jun 16 08:40:49 PDT 2009  NO_QUERY   \n",
            "1599998      4  2193602129  Tue Jun 16 08:40:50 PDT 2009  NO_QUERY   \n",
            "\n",
            "                username                                               text  \n",
            "1599994  AmandaMarie1028  Just woke up. Having no school is the best fee...  \n",
            "1599995      TheWDBoards  TheWDB.com - Very cool to hear old Walt interv...  \n",
            "1599996           bpbabe  Are you ready for your MoJo Makeover? Ask me f...  \n",
            "1599997     tinydiamondz  Happy 38th Birthday to my boo of alll time!!! ...  \n",
            "1599998   RyanTrevMorris  happy #charitytuesday @theNSPCC @SparksCharity...  \n",
            "Index(['label', 'time', 'date', 'query', 'username', 'text'], dtype='object')\n",
            "lenght of data is 1599999\n",
            "(1599999, 6)\n",
            "<class 'pandas.core.frame.DataFrame'>\n",
            "RangeIndex: 1599999 entries, 0 to 1599998\n",
            "Data columns (total 6 columns):\n",
            " #   Column    Non-Null Count    Dtype \n",
            "---  ------    --------------    ----- \n",
            " 0   label     1599999 non-null  int64 \n",
            " 1   time      1599999 non-null  int64 \n",
            " 2   date      1599999 non-null  object\n",
            " 3   query     1599999 non-null  object\n",
            " 4   username  1599999 non-null  object\n",
            " 5   text      1599999 non-null  object\n",
            "dtypes: int64(2), object(4)\n",
            "memory usage: 73.2+ MB\n",
            "None\n",
            "label        int64\n",
            "time         int64\n",
            "date        object\n",
            "query       object\n",
            "username    object\n",
            "text        object\n",
            "dtype: object\n"
          ]
        }
      ]
    },
    {
      "cell_type": "code",
      "source": [
        "# Check missing data\n",
        "np.sum(data.isnull().any(axis=1))"
      ],
      "metadata": {
        "id": "HpoO6rNpJ6cJ",
        "colab": {
          "base_uri": "https://localhost:8080/"
        },
        "outputId": "8f3cb7da-701d-40f9-e4e8-962ae2faa4b5"
      },
      "execution_count": null,
      "outputs": [
        {
          "output_type": "execute_result",
          "data": {
            "text/plain": [
              "0"
            ]
          },
          "metadata": {},
          "execution_count": 5
        }
      ]
    },
    {
      "cell_type": "code",
      "source": [
        "print('Count of columns in the data is:  ', len(data.columns))\n",
        "print('Count of rows in the data is:  ', len(data))"
      ],
      "metadata": {
        "id": "XPBpmhVLJ9EM",
        "colab": {
          "base_uri": "https://localhost:8080/"
        },
        "outputId": "21839614-d15e-4f0c-cf7c-058939f30531"
      },
      "execution_count": null,
      "outputs": [
        {
          "output_type": "stream",
          "name": "stdout",
          "text": [
            "Count of columns in the data is:   6\n",
            "Count of rows in the data is:   1599999\n"
          ]
        }
      ]
    },
    {
      "cell_type": "code",
      "source": [
        "# Check whether there is neutral sentiment with numerical label '2'\n",
        "if (data['label'] == 2).any():\n",
        "    print(\"There are values equal to 2 in the 'label' column.\")\n",
        "else:\n",
        "    print(\"There are no values equal to 2 in the 'label' column.\")"
      ],
      "metadata": {
        "id": "HPjiEmJALFV8",
        "colab": {
          "base_uri": "https://localhost:8080/"
        },
        "outputId": "1bd254f3-a03c-47b6-f715-7e41df2c87e9"
      },
      "execution_count": null,
      "outputs": [
        {
          "output_type": "stream",
          "name": "stdout",
          "text": [
            "There are no values equal to 2 in the 'label' column.\n"
          ]
        }
      ]
    },
    {
      "cell_type": "markdown",
      "source": [
        "Data Cleaning and Preparation"
      ],
      "metadata": {
        "id": "3NLaZhGhqBGM"
      }
    },
    {
      "cell_type": "code",
      "source": [
        "# Select the 'text' and 'label' columns\n",
        "data=data[['text','label']]\n",
        "# Modify 'label' column, turn label to binary form (Positive Sentiment = 1, Negative Sentiment = 0)\n",
        "data['label'][data['label']==4] = 1\n",
        "# Separating positive and negative tweets\n",
        "data_pos = data[data['label'] == 1]\n",
        "data_neg = data[data['label'] == 0]"
      ],
      "metadata": {
        "id": "iD7MMLJ5LHjG"
      },
      "execution_count": null,
      "outputs": []
    },
    {
      "cell_type": "code",
      "source": [
        "# Limit the number of both positive and negative tweets dataset to 20,000\n",
        "data_pos = data_pos.iloc[:int(20000)]\n",
        "data_neg = data_neg.iloc[:int(20000)]"
      ],
      "metadata": {
        "id": "QJku3UipLWE-"
      },
      "execution_count": null,
      "outputs": []
    },
    {
      "cell_type": "code",
      "source": [
        "# Combine positive and negative tweets as training dataset\n",
        "data = pd.concat([data_pos, data_neg])"
      ],
      "metadata": {
        "id": "NnPypGdhLbOf"
      },
      "execution_count": null,
      "outputs": []
    },
    {
      "cell_type": "markdown",
      "source": [
        "### Section 1: Change Tokenization (Word-level vs Bi-gram vs Tri-gram)"
      ],
      "metadata": {
        "id": "wx5rpxabNgKn"
      }
    },
    {
      "cell_type": "markdown",
      "source": [
        "#### Method 1: Word-level Tokenization"
      ],
      "metadata": {
        "id": "_ne1_ebeN6Iw"
      }
    },
    {
      "cell_type": "markdown",
      "source": [
        "Model-Specific Preprocessing"
      ],
      "metadata": {
        "id": "q7I-Fq2wsnSK"
      }
    },
    {
      "cell_type": "code",
      "source": [
        "# Make text in lower case\n",
        "data['text']=data['text'].str.lower()\n",
        "data['text'].tail()"
      ],
      "metadata": {
        "id": "GPiUOq0zQFmR",
        "colab": {
          "base_uri": "https://localhost:8080/"
        },
        "outputId": "afec8438-e5d0-4659-9112-f5503defbcce"
      },
      "execution_count": null,
      "outputs": [
        {
          "output_type": "execute_result",
          "data": {
            "text/plain": [
              "19995                            one more day of holidays \n",
              "19996    feeling so down right now .. i hate you damn h...\n",
              "19997    geez,i hv to read the whole book of personalit...\n",
              "19998    i threw my sign at donnie and he bent over to ...\n",
              "19999    @heather2711 good thing i didn't find any then...\n",
              "Name: text, dtype: object"
            ]
          },
          "metadata": {},
          "execution_count": 246
        }
      ]
    },
    {
      "cell_type": "code",
      "source": [
        "# Stopwords list provided by NLTK (common English words that are often filtered out)\n",
        "nltk.download('stopwords')\n",
        "stopwords_list = stopwords.words('english')\n",
        "from nltk.corpus import stopwords\n",
        "\", \".join(stopwords.words('english'))"
      ],
      "metadata": {
        "id": "05IpGRmAQTcm",
        "colab": {
          "base_uri": "https://localhost:8080/",
          "height": 178
        },
        "outputId": "b5e6b3ce-32ce-4f20-8868-4f272aae58ef"
      },
      "execution_count": null,
      "outputs": [
        {
          "output_type": "stream",
          "name": "stderr",
          "text": [
            "[nltk_data] Downloading package stopwords to /root/nltk_data...\n",
            "[nltk_data]   Package stopwords is already up-to-date!\n"
          ]
        },
        {
          "output_type": "execute_result",
          "data": {
            "text/plain": [
              "\"i, me, my, myself, we, our, ours, ourselves, you, you're, you've, you'll, you'd, your, yours, yourself, yourselves, he, him, his, himself, she, she's, her, hers, herself, it, it's, its, itself, they, them, their, theirs, themselves, what, which, who, whom, this, that, that'll, these, those, am, is, are, was, were, be, been, being, have, has, had, having, do, does, did, doing, a, an, the, and, but, if, or, because, as, until, while, of, at, by, for, with, about, against, between, into, through, during, before, after, above, below, to, from, up, down, in, out, on, off, over, under, again, further, then, once, here, there, when, where, why, how, all, any, both, each, few, more, most, other, some, such, no, nor, not, only, own, same, so, than, too, very, s, t, can, will, just, don, don't, should, should've, now, d, ll, m, o, re, ve, y, ain, aren, aren't, couldn, couldn't, didn, didn't, doesn, doesn't, hadn, hadn't, hasn, hasn't, haven, haven't, isn, isn't, ma, mightn, mightn't, mustn, mustn't, needn, needn't, shan, shan't, shouldn, shouldn't, wasn, wasn't, weren, weren't, won, won't, wouldn, wouldn't\""
            ],
            "application/vnd.google.colaboratory.intrinsic+json": {
              "type": "string"
            }
          },
          "metadata": {},
          "execution_count": 247
        }
      ]
    },
    {
      "cell_type": "code",
      "source": [
        "# Remove the stopwords\n",
        "STOPWORDS = set(stopwords.words('english'))\n",
        "def cleaning_stopwords(text):\n",
        "    return \" \".join([word for word in str(text).split() if word not in STOPWORDS])\n",
        "data['text'] = data['text'].apply(lambda text: cleaning_stopwords(text))"
      ],
      "metadata": {
        "id": "2sldnKY8QT-3"
      },
      "execution_count": null,
      "outputs": []
    },
    {
      "cell_type": "code",
      "source": [
        "# Remove the punctuations\n",
        "english_punctuations = string.punctuation\n",
        "punctuations_list = english_punctuations\n",
        "def cleaning_punctuations(text):\n",
        "    translator = str.maketrans('', '', punctuations_list)\n",
        "    return text.translate(translator)\n",
        "data['text']= data['text'].apply(lambda x: cleaning_punctuations(x))"
      ],
      "metadata": {
        "id": "YmXv3u-cQcUA"
      },
      "execution_count": null,
      "outputs": []
    },
    {
      "cell_type": "code",
      "source": [
        "# Remove repeating characters\n",
        "def cleaning_repeating_char(text):\n",
        "    return re.sub(r'(.)\\1+', r'\\1', text)\n",
        "data['text'] = data['text'].apply(lambda x: cleaning_repeating_char(x))\n",
        "\n",
        "# Remove email\n",
        "def cleaning_email(data):\n",
        "    return re.sub('@[^\\s]+', ' ', data)\n",
        "data['text']= data['text'].apply(lambda x: cleaning_email(x))\n",
        "\n",
        "# Remove URL's\n",
        "def cleaning_URLs(data):\n",
        "    return re.sub('((www\\.[^\\s]+)|(https?://[^\\s]+))',' ',data)\n",
        "data['text'] = data['text'].apply(lambda x: cleaning_URLs(x))\n",
        "\n",
        "# Remove numeric numbers\n",
        "def cleaning_numbers(data):\n",
        "    return re.sub('[0-9]+', '', data)\n",
        "data['text'] = data['text'].apply(lambda x: cleaning_numbers(x))"
      ],
      "metadata": {
        "id": "zRcxb7MxQe7y"
      },
      "execution_count": null,
      "outputs": []
    },
    {
      "cell_type": "markdown",
      "source": [
        "Tokenization"
      ],
      "metadata": {
        "id": "k0d88cROuT7C"
      }
    },
    {
      "cell_type": "code",
      "source": [
        "# Create a tokenizer that divide text into word sequences, ignoring spaces, punctuation, and other non-word elements\n",
        "tokenizer = RegexpTokenizer(r'\\w+')\n",
        "# Process each tweet to produce a list of word tokens\n",
        "data['text'] = data['text'].apply(tokenizer.tokenize)"
      ],
      "metadata": {
        "id": "CZCNU33zNjot"
      },
      "execution_count": null,
      "outputs": []
    },
    {
      "cell_type": "code",
      "source": [
        "# Apply Stemming: Reduce words to their base form by removing inflectional endings\n",
        "st = nltk.PorterStemmer()\n",
        "def stemming_on_text(data):\n",
        "    text = [st.stem(word) for word in data]\n",
        "    return text\n",
        "\n",
        "data['text']= data['text'].apply(lambda x: stemming_on_text(x))"
      ],
      "metadata": {
        "id": "vzPZSj8lPsoz"
      },
      "execution_count": null,
      "outputs": []
    },
    {
      "cell_type": "code",
      "source": [
        "# Apply Lemmatization: Reduce words to their dictionary form to achieve more accurate root form\n",
        "nltk.download('wordnet')\n",
        "lm = nltk.WordNetLemmatizer()\n",
        "def lemmatizer_on_text(data):\n",
        "    text = [lm.lemmatize(word) for word in data]\n",
        "    return text\n",
        "\n",
        "data['text'] = data['text'].apply(lambda x: lemmatizer_on_text(x))"
      ],
      "metadata": {
        "colab": {
          "base_uri": "https://localhost:8080/"
        },
        "id": "uAy8LD6qQTlp",
        "outputId": "96631094-e53c-4722-aa1e-bd196d8387dc"
      },
      "execution_count": null,
      "outputs": [
        {
          "output_type": "stream",
          "name": "stderr",
          "text": [
            "[nltk_data] Downloading package wordnet to /root/nltk_data...\n",
            "[nltk_data]   Package wordnet is already up-to-date!\n"
          ]
        }
      ]
    },
    {
      "cell_type": "code",
      "source": [
        "# Separate feature and label\n",
        "X = data.text\n",
        "y = data.label"
      ],
      "metadata": {
        "id": "_EcJjKYZQtfJ"
      },
      "execution_count": null,
      "outputs": []
    },
    {
      "cell_type": "code",
      "source": [
        "# Max features per input sample\n",
        "max_len = 500\n",
        "# Tokenizer: choose the most frequent 2000 words (vocabulary size) from all tweet samples\n",
        "tok = Tokenizer(num_words=2000)\n",
        "# Fit tokenizer to dataset with all tweet samples, indexing words by frequency (most frequent gets index 1), build a tokenizer's vocabulary\n",
        "tok.fit_on_texts(X)\n",
        "# Convert texts in dataset to sequences of integers based on the tokenizer's vocabulary\n",
        "sequences = tok.texts_to_sequences(X)\n",
        "# Padded or Truncated each sample (sequence of integers) to have a length fo 500 tokens\n",
        "sequences_matrix = sequence.pad_sequences(sequences,maxlen=max_len)"
      ],
      "metadata": {
        "id": "INAmVTERRo_9"
      },
      "execution_count": null,
      "outputs": []
    },
    {
      "cell_type": "code",
      "source": [
        "# Check the shape of processed dataset\n",
        "sequences_matrix.shape"
      ],
      "metadata": {
        "colab": {
          "base_uri": "https://localhost:8080/"
        },
        "id": "tw5ka2ABRrA3",
        "outputId": "66ac566a-fda0-429f-a558-0190ef5f222e"
      },
      "execution_count": null,
      "outputs": [
        {
          "output_type": "execute_result",
          "data": {
            "text/plain": [
              "(40000, 500)"
            ]
          },
          "metadata": {},
          "execution_count": 256
        }
      ]
    },
    {
      "cell_type": "markdown",
      "source": [
        "Prepare Train & Test Dataset"
      ],
      "metadata": {
        "id": "ResnouJ45Go5"
      }
    },
    {
      "cell_type": "code",
      "source": [
        "# Separate 70% training dataset and 30% testing dataset\n",
        "X_train, X_test, Y_train, Y_test = train_test_split(sequences_matrix, y, test_size = 0.3, random_state = 2)"
      ],
      "metadata": {
        "id": "2qMOlIuDRuPa"
      },
      "execution_count": null,
      "outputs": []
    },
    {
      "cell_type": "markdown",
      "source": [
        "Configure Model for Binary Classification"
      ],
      "metadata": {
        "id": "HUKNyjAf9-Jd"
      }
    },
    {
      "cell_type": "code",
      "source": [
        "def tensorflow_based_model():\n",
        "  # Input Layer (500 features for each sample)\n",
        "  inputs = Input(name='inputs',shape=[max_len])\n",
        "  # Embedding Layer to transform the input data (indices representing words) into dense vectors of size 300\n",
        "  # Every word is converted into a 300-dimensional vector\n",
        "  layer = Embedding(2000,300,input_length=max_len)(inputs)\n",
        "  # LSTM layer with 64 units to process sequence data\n",
        "  layer = LSTM(64)(layer)\n",
        "  # Fully connected layer with 256 neurons followed by a ReLU activation function for non-linear transformation\n",
        "  layer = Dense(256,name='FC1')(layer)\n",
        "  layer = Activation('relu')(layer)\n",
        "  # Incorporates dropout layer with a rate of 0.5 to reduce overfitting by randomly setting input units to 0 during training\n",
        "  layer = Dropout(0.5)(layer)\n",
        "  # Dense layer consisting of a single neuron with a sigmoid activation function to output the probability for the binary classification\n",
        "  layer = Dense(1,name='out_layer')(layer)\n",
        "  layer = Activation('sigmoid')(layer)\n",
        "  # Construct the model\n",
        "  model = Model(inputs=inputs,outputs=layer)\n",
        "  return model\n",
        "\n",
        "model = tensorflow_based_model()\n",
        "# Configure the model for training by setting loss function, learning rate optimizer, and evaluation metrics\n",
        "model.compile(loss = 'binary_crossentropy', optimizer = RMSprop(), metrics = ['accuracy'])"
      ],
      "metadata": {
        "id": "1KAri3iPUiDw"
      },
      "execution_count": null,
      "outputs": []
    },
    {
      "cell_type": "markdown",
      "source": [
        "Train Model"
      ],
      "metadata": {
        "id": "ffr6Zufw-PtX"
      }
    },
    {
      "cell_type": "code",
      "source": [
        "# Train the model with training dataset\n",
        "history=model.fit(X_train,Y_train, batch_size = 2000, epochs = 20, validation_split = 0.1)\n",
        "print('Training finished !!')"
      ],
      "metadata": {
        "id": "ZQh2C3sXUlhq",
        "colab": {
          "base_uri": "https://localhost:8080/"
        },
        "outputId": "deb219f7-2221-46b0-9d21-3c105c42b3ac"
      },
      "execution_count": null,
      "outputs": [
        {
          "output_type": "stream",
          "name": "stdout",
          "text": [
            "Epoch 1/20\n",
            "13/13 [==============================] - 6s 332ms/step - loss: 0.6921 - accuracy: 0.5271 - val_loss: 0.6911 - val_accuracy: 0.5382\n",
            "Epoch 2/20\n",
            "13/13 [==============================] - 4s 304ms/step - loss: 0.6890 - accuracy: 0.5547 - val_loss: 0.6868 - val_accuracy: 0.5632\n",
            "Epoch 3/20\n",
            "13/13 [==============================] - 4s 302ms/step - loss: 0.6813 - accuracy: 0.5849 - val_loss: 0.6724 - val_accuracy: 0.6279\n",
            "Epoch 4/20\n",
            "13/13 [==============================] - 4s 298ms/step - loss: 0.6622 - accuracy: 0.6296 - val_loss: 0.6557 - val_accuracy: 0.6068\n",
            "Epoch 5/20\n",
            "13/13 [==============================] - 4s 302ms/step - loss: 0.6276 - accuracy: 0.6689 - val_loss: 0.6036 - val_accuracy: 0.6793\n",
            "Epoch 6/20\n",
            "13/13 [==============================] - 4s 304ms/step - loss: 0.5867 - accuracy: 0.6967 - val_loss: 0.5597 - val_accuracy: 0.7236\n",
            "Epoch 7/20\n",
            "13/13 [==============================] - 4s 307ms/step - loss: 0.5494 - accuracy: 0.7287 - val_loss: 0.5369 - val_accuracy: 0.7296\n",
            "Epoch 8/20\n",
            "13/13 [==============================] - 4s 305ms/step - loss: 0.5247 - accuracy: 0.7432 - val_loss: 0.5706 - val_accuracy: 0.7004\n",
            "Epoch 9/20\n",
            "13/13 [==============================] - 4s 306ms/step - loss: 0.5186 - accuracy: 0.7500 - val_loss: 0.5278 - val_accuracy: 0.7400\n",
            "Epoch 10/20\n",
            "13/13 [==============================] - 4s 304ms/step - loss: 0.5074 - accuracy: 0.7555 - val_loss: 0.5200 - val_accuracy: 0.7475\n",
            "Epoch 11/20\n",
            "13/13 [==============================] - 4s 301ms/step - loss: 0.4986 - accuracy: 0.7629 - val_loss: 0.5233 - val_accuracy: 0.7400\n",
            "Epoch 12/20\n",
            "13/13 [==============================] - 4s 304ms/step - loss: 0.4950 - accuracy: 0.7643 - val_loss: 0.5238 - val_accuracy: 0.7404\n",
            "Epoch 13/20\n",
            "13/13 [==============================] - 4s 299ms/step - loss: 0.4885 - accuracy: 0.7686 - val_loss: 0.5283 - val_accuracy: 0.7389\n",
            "Epoch 14/20\n",
            "13/13 [==============================] - 4s 298ms/step - loss: 0.4877 - accuracy: 0.7698 - val_loss: 0.5223 - val_accuracy: 0.7450\n",
            "Epoch 15/20\n",
            "13/13 [==============================] - 4s 299ms/step - loss: 0.4811 - accuracy: 0.7749 - val_loss: 0.5270 - val_accuracy: 0.7386\n",
            "Epoch 16/20\n",
            "13/13 [==============================] - 4s 298ms/step - loss: 0.4796 - accuracy: 0.7774 - val_loss: 0.5379 - val_accuracy: 0.7407\n",
            "Epoch 17/20\n",
            "13/13 [==============================] - 4s 297ms/step - loss: 0.4802 - accuracy: 0.7771 - val_loss: 0.5362 - val_accuracy: 0.7389\n",
            "Epoch 18/20\n",
            "13/13 [==============================] - 4s 299ms/step - loss: 0.4757 - accuracy: 0.7792 - val_loss: 0.5425 - val_accuracy: 0.7304\n",
            "Epoch 19/20\n",
            "13/13 [==============================] - 4s 297ms/step - loss: 0.4743 - accuracy: 0.7808 - val_loss: 0.5352 - val_accuracy: 0.7361\n",
            "Epoch 20/20\n",
            "13/13 [==============================] - 4s 297ms/step - loss: 0.4705 - accuracy: 0.7832 - val_loss: 0.5330 - val_accuracy: 0.7364\n",
            "Training finished !!\n"
          ]
        }
      ]
    },
    {
      "cell_type": "markdown",
      "source": [
        "Access Performance"
      ],
      "metadata": {
        "id": "NLWdDoPE-Su2"
      }
    },
    {
      "cell_type": "code",
      "source": [
        "# Access performance\n",
        "accr1 = model.evaluate(X_test,Y_test)\n",
        "print('Test set\\n  Accuracy: {:0.2f}'.format(accr1[1]))"
      ],
      "metadata": {
        "id": "hy5R7MhgUmxI",
        "colab": {
          "base_uri": "https://localhost:8080/"
        },
        "outputId": "d4e61c52-cfda-4e22-afc4-5d57cae14898"
      },
      "execution_count": null,
      "outputs": [
        {
          "output_type": "stream",
          "name": "stdout",
          "text": [
            "375/375 [==============================] - 4s 10ms/step - loss: 0.5276 - accuracy: 0.7418\n",
            "Test set\n",
            "  Accuracy: 0.74\n"
          ]
        }
      ]
    },
    {
      "cell_type": "markdown",
      "source": [
        "#### Method 2: Bi-gram"
      ],
      "metadata": {
        "id": "O35Fe_fBObHe"
      }
    },
    {
      "cell_type": "code",
      "source": [
        "data['text']=data['text'].str.lower()\n",
        "data['text'].tail()"
      ],
      "metadata": {
        "id": "fKrWspz0Of_i",
        "colab": {
          "base_uri": "https://localhost:8080/"
        },
        "outputId": "3d9e277a-ac36-4f70-f73c-0d60dabcfe36"
      },
      "execution_count": null,
      "outputs": [
        {
          "output_type": "execute_result",
          "data": {
            "text/plain": [
              "19995                            one more day of holidays \n",
              "19996    feeling so down right now .. i hate you damn h...\n",
              "19997    geez,i hv to read the whole book of personalit...\n",
              "19998    i threw my sign at donnie and he bent over to ...\n",
              "19999    @heather2711 good thing i didn't find any then...\n",
              "Name: text, dtype: object"
            ]
          },
          "metadata": {},
          "execution_count": 11
        }
      ]
    },
    {
      "cell_type": "code",
      "source": [
        "def cleaning_repeating_char(text):\n",
        "    return re.sub(r'(.)\\1+', r'\\1', text)\n",
        "data['text'] = data['text'].apply(lambda x: cleaning_repeating_char(x))\n",
        "\n",
        "def cleaning_email(data):\n",
        "    return re.sub('@[^\\s]+', ' ', data)\n",
        "data['text']= data['text'].apply(lambda x: cleaning_email(x))\n",
        "\n",
        "def cleaning_URLs(data):\n",
        "    return re.sub('((www\\.[^\\s]+)|(https?://[^\\s]+))',' ',data)\n",
        "data['text'] = data['text'].apply(lambda x: cleaning_URLs(x))\n",
        "\n",
        "def cleaning_numbers(data):\n",
        "    return re.sub('[0-9]+', '', data)\n",
        "data['text'] = data['text'].apply(lambda x: cleaning_numbers(x))"
      ],
      "metadata": {
        "id": "pW4M8z7JRdAF"
      },
      "execution_count": null,
      "outputs": []
    },
    {
      "cell_type": "code",
      "source": [
        "X=data.text\n",
        "y=data.label"
      ],
      "metadata": {
        "id": "Ge7TRc5PRg0-"
      },
      "execution_count": null,
      "outputs": []
    },
    {
      "cell_type": "code",
      "source": [
        "import nltk\n",
        "from nltk.tokenize import word_tokenize\n",
        "from nltk import bigrams\n",
        "from keras.preprocessing.text import Tokenizer\n",
        "from keras.preprocessing.sequence import pad_sequences\n",
        "\n",
        "nltk.download('punkt')"
      ],
      "metadata": {
        "id": "GZfkNrV3RhcX",
        "colab": {
          "base_uri": "https://localhost:8080/"
        },
        "outputId": "e417b6cd-eb8d-4738-b1d7-036470b3b1e2"
      },
      "execution_count": null,
      "outputs": [
        {
          "output_type": "stream",
          "name": "stderr",
          "text": [
            "[nltk_data] Downloading package punkt to /root/nltk_data...\n",
            "[nltk_data]   Unzipping tokenizers/punkt.zip.\n"
          ]
        },
        {
          "output_type": "execute_result",
          "data": {
            "text/plain": [
              "True"
            ]
          },
          "metadata": {},
          "execution_count": 14
        }
      ]
    },
    {
      "cell_type": "code",
      "source": [
        "def create_bigrams(texts):\n",
        "    bigram_texts = []\n",
        "    for text in texts:\n",
        "        tokens = word_tokenize(text.lower())  # Tokenizing the cleaned text\n",
        "        bi_tokens = bigrams(tokens)\n",
        "        bigram_texts.append(' '.join(['_'.join(token) for token in bi_tokens]))\n",
        "    return bigram_texts"
      ],
      "metadata": {
        "id": "gr1E5gSbS9NL"
      },
      "execution_count": null,
      "outputs": []
    },
    {
      "cell_type": "code",
      "source": [
        "# Apply bigram creation on the cleaned texts\n",
        "X_bigrams = create_bigrams(data['text'].tolist())\n",
        "\n",
        "# Tokenization and Padding\n",
        "max_len = 500\n",
        "tok = Tokenizer(num_words=2000)\n",
        "tok.fit_on_texts(X_bigrams)\n",
        "sequences = tok.texts_to_sequences(X_bigrams)\n",
        "sequences_matrix = pad_sequences(sequences, maxlen=max_len)"
      ],
      "metadata": {
        "id": "tWTBcreZS_Dv"
      },
      "execution_count": null,
      "outputs": []
    },
    {
      "cell_type": "code",
      "source": [
        "sequences_matrix.shape"
      ],
      "metadata": {
        "id": "rX60s-CMTBZr",
        "colab": {
          "base_uri": "https://localhost:8080/"
        },
        "outputId": "fce7bcc9-4ade-48da-ef36-39355d4442fb"
      },
      "execution_count": null,
      "outputs": [
        {
          "output_type": "execute_result",
          "data": {
            "text/plain": [
              "(40000, 500)"
            ]
          },
          "metadata": {},
          "execution_count": 17
        }
      ]
    },
    {
      "cell_type": "code",
      "source": [
        "X_train, X_test, Y_train, Y_test = train_test_split(sequences_matrix, y, test_size=0.3, random_state=2)"
      ],
      "metadata": {
        "id": "ZIkTMgcbTDs3"
      },
      "execution_count": null,
      "outputs": []
    },
    {
      "cell_type": "code",
      "source": [
        "def tensorflow_based_model(): #Defined tensorflow_based_model function for training tenforflow based model\n",
        "    inputs = Input(name='inputs',shape=[max_len])#step1\n",
        "    layer = Embedding(2000,300,input_length=max_len)(inputs) #step2\n",
        "    layer = LSTM(64)(layer) #step3\n",
        "    layer = Dense(256,name='FC1')(layer) #step4\n",
        "    layer = Activation('relu')(layer) # step5\n",
        "    layer = Dropout(0.5)(layer) # step6\n",
        "    layer = Dense(1,name='out_layer')(layer) #step4 again but this time its giving only one output as because we need to classify the tweet as positive or negative\n",
        "    layer = Activation('sigmoid')(layer) #step5 but this time activation function is sigmoid for only one output.\n",
        "    model = Model(inputs=inputs,outputs=layer) #here we are getting the final output value in the model for classification\n",
        "    return model #function returning the value when we call it\n",
        "\n",
        "model = tensorflow_based_model() # here we are calling the function of created model\n",
        "model.compile(loss='binary_crossentropy',optimizer=RMSprop(),metrics=['accuracy'])"
      ],
      "metadata": {
        "id": "puTMMzjuTGBs"
      },
      "execution_count": null,
      "outputs": []
    },
    {
      "cell_type": "code",
      "source": [
        "history=model.fit(X_train,Y_train,batch_size=2000,epochs=20, validation_split=0.1)# here we are starting the training of model by feeding the training data\n",
        "print('Training finished !!')"
      ],
      "metadata": {
        "id": "sQRPK6lmTKdV",
        "colab": {
          "base_uri": "https://localhost:8080/"
        },
        "outputId": "dae77f8d-f7f1-4963-de59-0bc11d51cb03"
      },
      "execution_count": null,
      "outputs": [
        {
          "output_type": "stream",
          "name": "stdout",
          "text": [
            "Epoch 1/20\n",
            "13/13 [==============================] - 7s 356ms/step - loss: 0.6914 - accuracy: 0.5414 - val_loss: 0.6883 - val_accuracy: 0.5879\n",
            "Epoch 2/20\n",
            "13/13 [==============================] - 4s 293ms/step - loss: 0.6813 - accuracy: 0.5939 - val_loss: 0.6660 - val_accuracy: 0.6171\n",
            "Epoch 3/20\n",
            "13/13 [==============================] - 4s 296ms/step - loss: 0.6512 - accuracy: 0.6339 - val_loss: 0.6242 - val_accuracy: 0.6746\n",
            "Epoch 4/20\n",
            "13/13 [==============================] - 4s 305ms/step - loss: 0.6071 - accuracy: 0.6799 - val_loss: 0.5940 - val_accuracy: 0.6843\n",
            "Epoch 5/20\n",
            "13/13 [==============================] - 4s 301ms/step - loss: 0.5748 - accuracy: 0.7074 - val_loss: 0.5677 - val_accuracy: 0.7075\n",
            "Epoch 6/20\n",
            "13/13 [==============================] - 4s 301ms/step - loss: 0.5488 - accuracy: 0.7274 - val_loss: 0.5391 - val_accuracy: 0.7282\n",
            "Epoch 7/20\n",
            "13/13 [==============================] - 4s 309ms/step - loss: 0.5291 - accuracy: 0.7448 - val_loss: 0.5567 - val_accuracy: 0.7118\n",
            "Epoch 8/20\n",
            "13/13 [==============================] - 4s 308ms/step - loss: 0.5167 - accuracy: 0.7531 - val_loss: 0.5200 - val_accuracy: 0.7464\n",
            "Epoch 9/20\n",
            "13/13 [==============================] - 4s 306ms/step - loss: 0.5018 - accuracy: 0.7650 - val_loss: 0.5374 - val_accuracy: 0.7304\n",
            "Epoch 10/20\n",
            "13/13 [==============================] - 4s 304ms/step - loss: 0.4927 - accuracy: 0.7686 - val_loss: 0.5098 - val_accuracy: 0.7525\n",
            "Epoch 11/20\n",
            "13/13 [==============================] - 4s 300ms/step - loss: 0.4817 - accuracy: 0.7783 - val_loss: 0.5548 - val_accuracy: 0.7225\n",
            "Epoch 12/20\n",
            "13/13 [==============================] - 4s 301ms/step - loss: 0.4829 - accuracy: 0.7779 - val_loss: 0.5064 - val_accuracy: 0.7589\n",
            "Epoch 13/20\n",
            "13/13 [==============================] - 4s 304ms/step - loss: 0.4781 - accuracy: 0.7804 - val_loss: 0.5130 - val_accuracy: 0.7457\n",
            "Epoch 14/20\n",
            "13/13 [==============================] - 4s 300ms/step - loss: 0.4711 - accuracy: 0.7843 - val_loss: 0.5114 - val_accuracy: 0.7489\n",
            "Epoch 15/20\n",
            "13/13 [==============================] - 4s 298ms/step - loss: 0.4720 - accuracy: 0.7842 - val_loss: 0.5068 - val_accuracy: 0.7479\n",
            "Epoch 16/20\n",
            "13/13 [==============================] - 4s 298ms/step - loss: 0.4607 - accuracy: 0.7913 - val_loss: 0.5157 - val_accuracy: 0.7596\n",
            "Epoch 17/20\n",
            "13/13 [==============================] - 4s 298ms/step - loss: 0.4606 - accuracy: 0.7896 - val_loss: 0.5207 - val_accuracy: 0.7357\n",
            "Epoch 18/20\n",
            "13/13 [==============================] - 4s 298ms/step - loss: 0.4610 - accuracy: 0.7926 - val_loss: 0.5016 - val_accuracy: 0.7568\n",
            "Epoch 19/20\n",
            "13/13 [==============================] - 4s 296ms/step - loss: 0.4523 - accuracy: 0.7958 - val_loss: 0.5389 - val_accuracy: 0.7479\n",
            "Epoch 20/20\n",
            "13/13 [==============================] - 4s 298ms/step - loss: 0.4528 - accuracy: 0.7952 - val_loss: 0.5012 - val_accuracy: 0.7611\n",
            "Training finished !!\n"
          ]
        }
      ]
    },
    {
      "cell_type": "code",
      "source": [
        "accr1 = model.evaluate(X_test,Y_test)\n",
        "print('Test set\\n  Accuracy: {:0.2f}'.format(accr1[1]))"
      ],
      "metadata": {
        "id": "Eb1j2VTTTMIM",
        "colab": {
          "base_uri": "https://localhost:8080/"
        },
        "outputId": "ff492bb6-df65-4821-f13d-cbed413757d4"
      },
      "execution_count": null,
      "outputs": [
        {
          "output_type": "stream",
          "name": "stdout",
          "text": [
            "375/375 [==============================] - 3s 9ms/step - loss: 0.4995 - accuracy: 0.7682\n",
            "Test set\n",
            "  Accuracy: 0.77\n"
          ]
        }
      ]
    },
    {
      "cell_type": "markdown",
      "source": [
        "#### Method 3: Tri-gram"
      ],
      "metadata": {
        "id": "_0opKTo9OedO"
      }
    },
    {
      "cell_type": "code",
      "source": [
        "data['text']=data['text'].str.lower()\n",
        "data['text'].tail()"
      ],
      "metadata": {
        "id": "F4ZIqt3cTYFH",
        "colab": {
          "base_uri": "https://localhost:8080/"
        },
        "outputId": "c7e546ae-d43f-4995-826f-5f939318042c"
      },
      "execution_count": null,
      "outputs": [
        {
          "output_type": "execute_result",
          "data": {
            "text/plain": [
              "19995                            one more day of holidays \n",
              "19996    feeling so down right now .. i hate you damn h...\n",
              "19997    geez,i hv to read the whole book of personalit...\n",
              "19998    i threw my sign at donnie and he bent over to ...\n",
              "19999    @heather2711 good thing i didn't find any then...\n",
              "Name: text, dtype: object"
            ]
          },
          "metadata": {},
          "execution_count": 292
        }
      ]
    },
    {
      "cell_type": "code",
      "source": [
        "def cleaning_repeating_char(text):\n",
        "    return re.sub(r'(.)\\1+', r'\\1', text)\n",
        "data['text'] = data['text'].apply(lambda x: cleaning_repeating_char(x))\n",
        "\n",
        "def cleaning_email(data):\n",
        "    return re.sub('@[^\\s]+', ' ', data)\n",
        "data['text']= data['text'].apply(lambda x: cleaning_email(x))\n",
        "\n",
        "def cleaning_URLs(data):\n",
        "    return re.sub('((www\\.[^\\s]+)|(https?://[^\\s]+))',' ',data)\n",
        "data['text'] = data['text'].apply(lambda x: cleaning_URLs(x))\n",
        "\n",
        "def cleaning_numbers(data):\n",
        "    return re.sub('[0-9]+', '', data)\n",
        "data['text'] = data['text'].apply(lambda x: cleaning_numbers(x))"
      ],
      "metadata": {
        "id": "SordTgnXTopX"
      },
      "execution_count": null,
      "outputs": []
    },
    {
      "cell_type": "code",
      "source": [
        "X=data.text\n",
        "y=data.label"
      ],
      "metadata": {
        "id": "MZjTOCneTq_c"
      },
      "execution_count": null,
      "outputs": []
    },
    {
      "cell_type": "code",
      "source": [
        "import nltk\n",
        "from nltk.tokenize import word_tokenize\n",
        "from nltk.util import trigrams  # Import the trigrams function\n",
        "from keras.preprocessing.text import Tokenizer\n",
        "from keras.preprocessing.sequence import pad_sequences\n",
        "\n",
        "nltk.download('punkt')"
      ],
      "metadata": {
        "id": "CkfuRaGuTwQp",
        "colab": {
          "base_uri": "https://localhost:8080/"
        },
        "outputId": "bd1a3f2c-ac04-4fdd-8778-2cafb915f4e9"
      },
      "execution_count": null,
      "outputs": [
        {
          "output_type": "stream",
          "name": "stderr",
          "text": [
            "[nltk_data] Downloading package punkt to /root/nltk_data...\n",
            "[nltk_data]   Package punkt is already up-to-date!\n"
          ]
        },
        {
          "output_type": "execute_result",
          "data": {
            "text/plain": [
              "True"
            ]
          },
          "metadata": {},
          "execution_count": 295
        }
      ]
    },
    {
      "cell_type": "code",
      "source": [
        "def create_trigrams(texts):\n",
        "    trigram_texts = []\n",
        "    for text in texts:\n",
        "        tokens = word_tokenize(text.lower())  # Tokenizing the cleaned text\n",
        "        tri_tokens = trigrams(tokens)\n",
        "        trigram_texts.append(' '.join(['_'.join(token) for token in tri_tokens]))\n",
        "    return trigram_texts"
      ],
      "metadata": {
        "id": "zcadX-dlTwzW"
      },
      "execution_count": null,
      "outputs": []
    },
    {
      "cell_type": "code",
      "source": [
        "# Apply trigram creation on the cleaned texts\n",
        "X_trigrams = create_trigrams(data['text'].tolist())\n",
        "\n",
        "# Tokenization and Padding\n",
        "max_len = 500\n",
        "tok = Tokenizer(num_words=2000)\n",
        "tok.fit_on_texts(X_trigrams)\n",
        "sequences = tok.texts_to_sequences(X_trigrams)\n",
        "sequences_matrix = pad_sequences(sequences, maxlen=max_len)"
      ],
      "metadata": {
        "id": "lCHNxrGFTyka"
      },
      "execution_count": null,
      "outputs": []
    },
    {
      "cell_type": "code",
      "source": [
        "sequences_matrix.shape"
      ],
      "metadata": {
        "id": "VmOOoTulT4dN",
        "colab": {
          "base_uri": "https://localhost:8080/"
        },
        "outputId": "563bde89-7783-40e8-8d79-f3b552eff8fc"
      },
      "execution_count": null,
      "outputs": [
        {
          "output_type": "execute_result",
          "data": {
            "text/plain": [
              "(40000, 500)"
            ]
          },
          "metadata": {},
          "execution_count": 298
        }
      ]
    },
    {
      "cell_type": "code",
      "source": [
        "X_train, X_test, Y_train, Y_test = train_test_split(sequences_matrix, y, test_size=0.3, random_state=2)"
      ],
      "metadata": {
        "id": "1mtiHLT6T6la"
      },
      "execution_count": null,
      "outputs": []
    },
    {
      "cell_type": "code",
      "source": [
        "def tensorflow_based_model(): #Defined tensorflow_based_model function for training tenforflow based model\n",
        "    inputs = Input(name='inputs',shape=[max_len])#step1\n",
        "    layer = Embedding(2000,300,input_length=max_len)(inputs) #step2\n",
        "    layer = LSTM(64)(layer) #step3\n",
        "    layer = Dense(256,name='FC1')(layer) #step4\n",
        "    layer = Activation('relu')(layer) # step5\n",
        "    layer = Dropout(0.5)(layer) # step6\n",
        "    layer = Dense(1,name='out_layer')(layer) #step4 again but this time its giving only one output as because we need to classify the tweet as positive or negative\n",
        "    layer = Activation('sigmoid')(layer) #step5 but this time activation function is sigmoid for only one output.\n",
        "    model = Model(inputs=inputs,outputs=layer) #here we are getting the final output value in the model for classification\n",
        "    return model #function returning the value when we call it\n",
        "\n",
        "model = tensorflow_based_model() # here we are calling the function of created model\n",
        "model.compile(loss='binary_crossentropy',optimizer=RMSprop(),metrics=['accuracy'])"
      ],
      "metadata": {
        "id": "PwS1lD7FT7Es"
      },
      "execution_count": null,
      "outputs": []
    },
    {
      "cell_type": "code",
      "source": [
        "history=model.fit(X_train,Y_train,batch_size=2000,epochs=20, validation_split=0.1)# here we are starting the training of model by feeding the training data\n",
        "print('Training finished !!')"
      ],
      "metadata": {
        "id": "EiOGiOtdT-ag",
        "colab": {
          "base_uri": "https://localhost:8080/"
        },
        "outputId": "4037fa78-1b82-46e6-fcaf-5c4d7407fa51"
      },
      "execution_count": null,
      "outputs": [
        {
          "output_type": "stream",
          "name": "stdout",
          "text": [
            "Epoch 1/20\n",
            "13/13 [==============================] - 7s 357ms/step - loss: 0.6923 - accuracy: 0.5238 - val_loss: 0.6908 - val_accuracy: 0.5657\n",
            "Epoch 2/20\n",
            "13/13 [==============================] - 4s 293ms/step - loss: 0.6871 - accuracy: 0.5780 - val_loss: 0.6803 - val_accuracy: 0.5925\n",
            "Epoch 3/20\n",
            "13/13 [==============================] - 4s 296ms/step - loss: 0.6637 - accuracy: 0.6187 - val_loss: 0.6339 - val_accuracy: 0.6682\n",
            "Epoch 4/20\n",
            "13/13 [==============================] - 4s 304ms/step - loss: 0.6221 - accuracy: 0.6626 - val_loss: 0.5968 - val_accuracy: 0.6893\n",
            "Epoch 5/20\n",
            "13/13 [==============================] - 4s 300ms/step - loss: 0.5856 - accuracy: 0.6977 - val_loss: 0.5726 - val_accuracy: 0.7032\n",
            "Epoch 6/20\n",
            "13/13 [==============================] - 4s 300ms/step - loss: 0.5599 - accuracy: 0.7206 - val_loss: 0.5795 - val_accuracy: 0.6850\n",
            "Epoch 7/20\n",
            "13/13 [==============================] - 4s 311ms/step - loss: 0.5398 - accuracy: 0.7362 - val_loss: 0.5775 - val_accuracy: 0.7093\n",
            "Epoch 8/20\n",
            "13/13 [==============================] - 4s 307ms/step - loss: 0.5294 - accuracy: 0.7446 - val_loss: 0.5432 - val_accuracy: 0.7250\n",
            "Epoch 9/20\n",
            "13/13 [==============================] - 4s 305ms/step - loss: 0.5153 - accuracy: 0.7552 - val_loss: 0.5364 - val_accuracy: 0.7250\n",
            "Epoch 10/20\n",
            "13/13 [==============================] - 4s 305ms/step - loss: 0.5037 - accuracy: 0.7635 - val_loss: 0.5388 - val_accuracy: 0.7179\n",
            "Epoch 11/20\n",
            "13/13 [==============================] - 4s 304ms/step - loss: 0.5016 - accuracy: 0.7663 - val_loss: 0.5507 - val_accuracy: 0.7207\n",
            "Epoch 12/20\n",
            "13/13 [==============================] - 4s 302ms/step - loss: 0.4950 - accuracy: 0.7690 - val_loss: 0.5228 - val_accuracy: 0.7407\n",
            "Epoch 13/20\n",
            "13/13 [==============================] - 4s 300ms/step - loss: 0.4842 - accuracy: 0.7763 - val_loss: 0.5287 - val_accuracy: 0.7454\n",
            "Epoch 14/20\n",
            "13/13 [==============================] - 4s 300ms/step - loss: 0.4872 - accuracy: 0.7745 - val_loss: 0.5244 - val_accuracy: 0.7318\n",
            "Epoch 15/20\n",
            "13/13 [==============================] - 4s 300ms/step - loss: 0.4796 - accuracy: 0.7796 - val_loss: 0.5190 - val_accuracy: 0.7414\n",
            "Epoch 16/20\n",
            "13/13 [==============================] - 4s 299ms/step - loss: 0.4784 - accuracy: 0.7801 - val_loss: 0.5183 - val_accuracy: 0.7532\n",
            "Epoch 17/20\n",
            "13/13 [==============================] - 4s 300ms/step - loss: 0.4778 - accuracy: 0.7808 - val_loss: 0.5179 - val_accuracy: 0.7486\n",
            "Epoch 18/20\n",
            "13/13 [==============================] - 4s 297ms/step - loss: 0.4642 - accuracy: 0.7878 - val_loss: 0.5151 - val_accuracy: 0.7525\n",
            "Epoch 19/20\n",
            "13/13 [==============================] - 4s 297ms/step - loss: 0.4646 - accuracy: 0.7881 - val_loss: 0.5131 - val_accuracy: 0.7468\n",
            "Epoch 20/20\n",
            "13/13 [==============================] - 4s 299ms/step - loss: 0.4638 - accuracy: 0.7870 - val_loss: 0.5134 - val_accuracy: 0.7464\n",
            "Training finished !!\n"
          ]
        }
      ]
    },
    {
      "cell_type": "code",
      "source": [
        "accr1 = model.evaluate(X_test,Y_test)\n",
        "print('Test set\\n  Accuracy: {:0.2f}'.format(accr1[1]))"
      ],
      "metadata": {
        "id": "fPayboClUDRT",
        "colab": {
          "base_uri": "https://localhost:8080/"
        },
        "outputId": "8fb2fc4e-db52-4e81-d3f7-f0d276b7347f"
      },
      "execution_count": null,
      "outputs": [
        {
          "output_type": "stream",
          "name": "stdout",
          "text": [
            "375/375 [==============================] - 3s 9ms/step - loss: 0.5129 - accuracy: 0.7554\n",
            "Test set\n",
            "  Accuracy: 0.76\n"
          ]
        }
      ]
    },
    {
      "cell_type": "markdown",
      "source": [
        "According to the result of...."
      ],
      "metadata": {
        "id": "95YzRta3VVBS"
      }
    },
    {
      "cell_type": "markdown",
      "source": [
        "### Section 2: Using Bi-gram, consider Random initialized embedding vs Word2Vec(Trainable) vs Word2Vec(Non-trainable)"
      ],
      "metadata": {
        "id": "T_s8FLSlSx4U"
      }
    },
    {
      "cell_type": "markdown",
      "source": [
        "#### Method 2: Word2Vec Trainable"
      ],
      "metadata": {
        "id": "kDBgcdNpkbkp"
      }
    },
    {
      "cell_type": "code",
      "source": [
        "from gensim.models import KeyedVectors\n",
        "import numpy as np\n",
        "import gensim.downloader as api\n",
        "\n",
        "word_vectors = api.load(\"word2vec-google-news-300\")\n",
        "\n",
        "embedding_matrix = np.zeros((2000, 300))  # 2000 is vocab size, 300 is the dimension of Word2Vec vectors\n",
        "\n",
        "for bigram, i in tok.word_index.items():\n",
        "    if i < 2000:  # Only consider the top 2000 words in the vocabulary\n",
        "        try:\n",
        "            embedding_vector = word_vectors[bigram]  # Get the embedding vector for the word\n",
        "            embedding_matrix[i] = embedding_vector  # Assign it to the embedding matrix\n",
        "        except KeyError:\n",
        "            # Words not found in the embedding index will be all zeros.\n",
        "            pass"
      ],
      "metadata": {
        "colab": {
          "base_uri": "https://localhost:8080/"
        },
        "id": "dZ9iMbW7HwWc",
        "outputId": "9f59ff5f-64e4-4bc5-814e-338a8e8ec434"
      },
      "execution_count": null,
      "outputs": [
        {
          "output_type": "stream",
          "name": "stdout",
          "text": [
            "[==================================================] 100.0% 1662.8/1662.8MB downloaded\n"
          ]
        }
      ]
    },
    {
      "cell_type": "code",
      "source": [
        "from tensorflow.keras.models import Model\n",
        "from tensorflow.keras.layers import Input, Embedding, LSTM, Dense, Activation, Dropout\n",
        "\n",
        "def tensorflow_based_model():\n",
        "    inputs = Input(name='inputs', shape=[max_len])\n",
        "    # Replace the original Embedding layer with the pre-trained Word2Vec embeddings\n",
        "    layer = Embedding(2000, 300, input_length=max_len, weights=[embedding_matrix], trainable=True)(inputs)\n",
        "    layer = LSTM(64)(layer)\n",
        "    layer = Dense(256, name='FC1')(layer)\n",
        "    layer = Activation('relu')(layer)\n",
        "    layer = Dropout(0.5)(layer)\n",
        "    layer = Dense(1, name='out_layer')(layer)\n",
        "    layer = Activation('sigmoid')(layer)\n",
        "    model = Model(inputs=inputs, outputs=layer)\n",
        "    return model"
      ],
      "metadata": {
        "id": "HXxpxRaZH6JS"
      },
      "execution_count": null,
      "outputs": []
    },
    {
      "cell_type": "code",
      "source": [
        "model = tensorflow_based_model() # here we are calling the function of created model\n",
        "model.compile(loss='binary_crossentropy',optimizer=RMSprop(),metrics=['accuracy'])"
      ],
      "metadata": {
        "id": "fWmwhFXY1_Qc"
      },
      "execution_count": null,
      "outputs": []
    },
    {
      "cell_type": "code",
      "source": [
        "history=model.fit(X_train,Y_train,batch_size=2000,epochs=20, validation_split=0.1)# here we are starting the training of model by feeding the training data\n",
        "print('Training finished !!')"
      ],
      "metadata": {
        "colab": {
          "base_uri": "https://localhost:8080/"
        },
        "id": "R_d1z_Z52M20",
        "outputId": "dc4a2963-54e7-47bc-8f02-a3814c0afe97"
      },
      "execution_count": null,
      "outputs": [
        {
          "output_type": "stream",
          "name": "stdout",
          "text": [
            "Epoch 1/20\n",
            "13/13 [==============================] - 14s 419ms/step - loss: 0.6804 - accuracy: 0.5798 - val_loss: 0.6788 - val_accuracy: 0.5668\n",
            "Epoch 2/20\n",
            "13/13 [==============================] - 4s 320ms/step - loss: 0.6427 - accuracy: 0.6383 - val_loss: 0.5983 - val_accuracy: 0.6929\n",
            "Epoch 3/20\n",
            "13/13 [==============================] - 4s 297ms/step - loss: 0.6036 - accuracy: 0.6794 - val_loss: 0.5753 - val_accuracy: 0.7061\n",
            "Epoch 4/20\n",
            "13/13 [==============================] - 4s 304ms/step - loss: 0.5736 - accuracy: 0.7077 - val_loss: 0.5751 - val_accuracy: 0.7046\n",
            "Epoch 5/20\n",
            "13/13 [==============================] - 4s 304ms/step - loss: 0.5599 - accuracy: 0.7188 - val_loss: 0.5529 - val_accuracy: 0.7182\n",
            "Epoch 6/20\n",
            "13/13 [==============================] - 4s 298ms/step - loss: 0.5469 - accuracy: 0.7285 - val_loss: 0.5350 - val_accuracy: 0.7421\n",
            "Epoch 7/20\n",
            "13/13 [==============================] - 4s 303ms/step - loss: 0.5324 - accuracy: 0.7402 - val_loss: 0.5296 - val_accuracy: 0.7404\n",
            "Epoch 8/20\n",
            "13/13 [==============================] - 4s 305ms/step - loss: 0.5314 - accuracy: 0.7413 - val_loss: 0.5219 - val_accuracy: 0.7457\n",
            "Epoch 9/20\n",
            "13/13 [==============================] - 4s 304ms/step - loss: 0.5177 - accuracy: 0.7531 - val_loss: 0.5141 - val_accuracy: 0.7504\n",
            "Epoch 10/20\n",
            "13/13 [==============================] - 4s 301ms/step - loss: 0.5099 - accuracy: 0.7555 - val_loss: 0.5883 - val_accuracy: 0.6914\n",
            "Epoch 11/20\n",
            "13/13 [==============================] - 4s 307ms/step - loss: 0.5064 - accuracy: 0.7604 - val_loss: 0.5320 - val_accuracy: 0.7368\n",
            "Epoch 12/20\n",
            "13/13 [==============================] - 4s 313ms/step - loss: 0.4980 - accuracy: 0.7625 - val_loss: 0.5271 - val_accuracy: 0.7389\n",
            "Epoch 13/20\n",
            "13/13 [==============================] - 4s 302ms/step - loss: 0.4982 - accuracy: 0.7619 - val_loss: 0.5070 - val_accuracy: 0.7582\n",
            "Epoch 14/20\n",
            "13/13 [==============================] - 4s 305ms/step - loss: 0.4884 - accuracy: 0.7694 - val_loss: 0.5209 - val_accuracy: 0.7489\n",
            "Epoch 15/20\n",
            "13/13 [==============================] - 4s 303ms/step - loss: 0.4811 - accuracy: 0.7719 - val_loss: 0.4947 - val_accuracy: 0.7575\n",
            "Epoch 16/20\n",
            "13/13 [==============================] - 4s 305ms/step - loss: 0.4791 - accuracy: 0.7717 - val_loss: 0.4951 - val_accuracy: 0.7579\n",
            "Epoch 17/20\n",
            "13/13 [==============================] - 4s 296ms/step - loss: 0.4738 - accuracy: 0.7746 - val_loss: 0.5154 - val_accuracy: 0.7461\n",
            "Epoch 18/20\n",
            "13/13 [==============================] - 4s 312ms/step - loss: 0.4701 - accuracy: 0.7773 - val_loss: 0.5023 - val_accuracy: 0.7561\n",
            "Epoch 19/20\n",
            "13/13 [==============================] - 4s 316ms/step - loss: 0.4656 - accuracy: 0.7807 - val_loss: 0.5064 - val_accuracy: 0.7593\n",
            "Epoch 20/20\n",
            "13/13 [==============================] - 4s 311ms/step - loss: 0.4639 - accuracy: 0.7799 - val_loss: 0.5134 - val_accuracy: 0.7329\n",
            "Training finished !!\n"
          ]
        }
      ]
    },
    {
      "cell_type": "code",
      "source": [
        "accr1 = model.evaluate(X_test,Y_test)\n",
        "print('Test set\\n  Accuracy: {:0.2f}'.format(accr1[1]))"
      ],
      "metadata": {
        "colab": {
          "base_uri": "https://localhost:8080/"
        },
        "id": "l0XaONux8bOw",
        "outputId": "207855dc-9dfd-43a5-c8b7-ac7bca3fd36c"
      },
      "execution_count": null,
      "outputs": [
        {
          "output_type": "stream",
          "name": "stdout",
          "text": [
            "375/375 [==============================] - 4s 12ms/step - loss: 0.5115 - accuracy: 0.7397\n",
            "Test set\n",
            "  Accuracy: 0.74\n"
          ]
        }
      ]
    },
    {
      "cell_type": "markdown",
      "source": [
        "#### Method 3: Word2Vec (Non-trainable)"
      ],
      "metadata": {
        "id": "6rJT8q0XkWy5"
      }
    },
    {
      "cell_type": "code",
      "source": [
        "from tensorflow.keras.models import Model\n",
        "from tensorflow.keras.layers import Input, Embedding, LSTM, Dense, Activation, Dropout\n",
        "\n",
        "def tensorflow_based_model():\n",
        "    inputs = Input(name='inputs', shape=[max_len])\n",
        "    # Replace the original Embedding layer with the pre-trained Word2Vec embeddings\n",
        "    layer = Embedding(2000, 300, input_length=max_len, weights=[embedding_matrix], trainable=False)(inputs)\n",
        "    layer = LSTM(64)(layer)\n",
        "    layer = Dense(256, name='FC1')(layer)\n",
        "    layer = Activation('relu')(layer)\n",
        "    layer = Dropout(0.5)(layer)\n",
        "    layer = Dense(1, name='out_layer')(layer)\n",
        "    layer = Activation('sigmoid')(layer)\n",
        "    model = Model(inputs=inputs, outputs=layer)\n",
        "    return model"
      ],
      "metadata": {
        "id": "5PusBdAvkfhT"
      },
      "execution_count": null,
      "outputs": []
    },
    {
      "cell_type": "code",
      "source": [
        "model = tensorflow_based_model() # here we are calling the function of created model\n",
        "model.compile(loss='binary_crossentropy',optimizer=RMSprop(),metrics=['accuracy'])"
      ],
      "metadata": {
        "id": "inMggHSkkjKP"
      },
      "execution_count": null,
      "outputs": []
    },
    {
      "cell_type": "code",
      "source": [
        "history=model.fit(X_train,Y_train,batch_size=2000,epochs=20, validation_split=0.1)# here we are starting the training of model by feeding the training data\n",
        "print('Training finished !!')"
      ],
      "metadata": {
        "colab": {
          "base_uri": "https://localhost:8080/"
        },
        "id": "QTdbD3Ysklcf",
        "outputId": "2c32e88e-dd7a-47e5-e991-70ccc376996a"
      },
      "execution_count": null,
      "outputs": [
        {
          "output_type": "stream",
          "name": "stdout",
          "text": [
            "Epoch 1/20\n",
            "13/13 [==============================] - 11s 290ms/step - loss: 0.6833 - accuracy: 0.5711 - val_loss: 0.6642 - val_accuracy: 0.5982\n",
            "Epoch 2/20\n",
            "13/13 [==============================] - 3s 224ms/step - loss: 0.6437 - accuracy: 0.6302 - val_loss: 0.6121 - val_accuracy: 0.6679\n",
            "Epoch 3/20\n",
            "13/13 [==============================] - 3s 228ms/step - loss: 0.6159 - accuracy: 0.6639 - val_loss: 0.6406 - val_accuracy: 0.6404\n",
            "Epoch 4/20\n",
            "13/13 [==============================] - 3s 224ms/step - loss: 0.6019 - accuracy: 0.6813 - val_loss: 0.5851 - val_accuracy: 0.6929\n",
            "Epoch 5/20\n",
            "13/13 [==============================] - 3s 225ms/step - loss: 0.5911 - accuracy: 0.6911 - val_loss: 0.5813 - val_accuracy: 0.6946\n",
            "Epoch 6/20\n",
            "13/13 [==============================] - 3s 226ms/step - loss: 0.5818 - accuracy: 0.6971 - val_loss: 0.5822 - val_accuracy: 0.6961\n",
            "Epoch 7/20\n",
            "13/13 [==============================] - 3s 228ms/step - loss: 0.5817 - accuracy: 0.6965 - val_loss: 0.5679 - val_accuracy: 0.7075\n",
            "Epoch 8/20\n",
            "13/13 [==============================] - 3s 226ms/step - loss: 0.5761 - accuracy: 0.7027 - val_loss: 0.5817 - val_accuracy: 0.6939\n",
            "Epoch 9/20\n",
            "13/13 [==============================] - 3s 230ms/step - loss: 0.5752 - accuracy: 0.7031 - val_loss: 0.5544 - val_accuracy: 0.7132\n",
            "Epoch 10/20\n",
            "13/13 [==============================] - 3s 225ms/step - loss: 0.5677 - accuracy: 0.7103 - val_loss: 0.5605 - val_accuracy: 0.7179\n",
            "Epoch 11/20\n",
            "13/13 [==============================] - 3s 225ms/step - loss: 0.5634 - accuracy: 0.7141 - val_loss: 0.5509 - val_accuracy: 0.7204\n",
            "Epoch 12/20\n",
            "13/13 [==============================] - 3s 228ms/step - loss: 0.5680 - accuracy: 0.7078 - val_loss: 0.5719 - val_accuracy: 0.6971\n",
            "Epoch 13/20\n",
            "13/13 [==============================] - 3s 227ms/step - loss: 0.5631 - accuracy: 0.7129 - val_loss: 0.5443 - val_accuracy: 0.7200\n",
            "Epoch 14/20\n",
            "13/13 [==============================] - 3s 229ms/step - loss: 0.5598 - accuracy: 0.7144 - val_loss: 0.5499 - val_accuracy: 0.7121\n",
            "Epoch 15/20\n",
            "13/13 [==============================] - 3s 229ms/step - loss: 0.5564 - accuracy: 0.7149 - val_loss: 0.5553 - val_accuracy: 0.7139\n",
            "Epoch 16/20\n",
            "13/13 [==============================] - 3s 234ms/step - loss: 0.5503 - accuracy: 0.7202 - val_loss: 0.5634 - val_accuracy: 0.7139\n",
            "Epoch 17/20\n",
            "13/13 [==============================] - 3s 231ms/step - loss: 0.5532 - accuracy: 0.7162 - val_loss: 0.5501 - val_accuracy: 0.7129\n",
            "Epoch 18/20\n",
            "13/13 [==============================] - 3s 230ms/step - loss: 0.5502 - accuracy: 0.7160 - val_loss: 0.5331 - val_accuracy: 0.7229\n",
            "Epoch 19/20\n",
            "13/13 [==============================] - 3s 231ms/step - loss: 0.5450 - accuracy: 0.7192 - val_loss: 0.5527 - val_accuracy: 0.7200\n",
            "Epoch 20/20\n",
            "13/13 [==============================] - 3s 232ms/step - loss: 0.5432 - accuracy: 0.7235 - val_loss: 0.5537 - val_accuracy: 0.7211\n",
            "Training finished !!\n"
          ]
        }
      ]
    },
    {
      "cell_type": "code",
      "source": [
        "accr1 = model.evaluate(X_test,Y_test)\n",
        "print('Test set\\n  Accuracy: {:0.2f}'.format(accr1[1]))"
      ],
      "metadata": {
        "colab": {
          "base_uri": "https://localhost:8080/"
        },
        "id": "vhyXOpdDknZ9",
        "outputId": "1eb51060-17bf-4fc7-e35c-e18943dacf64"
      },
      "execution_count": null,
      "outputs": [
        {
          "output_type": "stream",
          "name": "stdout",
          "text": [
            "375/375 [==============================] - 3s 8ms/step - loss: 0.5646 - accuracy: 0.7162\n",
            "Test set\n",
            "  Accuracy: 0.72\n"
          ]
        }
      ]
    },
    {
      "cell_type": "markdown",
      "source": [
        "### Section 3: Use Bi-gram, Random-initialization, LSTM vs GRU vs Bi-LSTM"
      ],
      "metadata": {
        "id": "8DwX-rLakwQz"
      }
    },
    {
      "cell_type": "markdown",
      "source": [
        "#### Method 2: GRU"
      ],
      "metadata": {
        "id": "R2P6RwHflpeg"
      }
    },
    {
      "cell_type": "code",
      "source": [
        "from tensorflow.keras.layers import Input, Embedding, GRU, Dense, Activation, Dropout\n",
        "\n",
        "def tensorflow_based_model(): #Defined tensorflow_based_model function for training tenforflow based model\n",
        "    inputs = Input(name='inputs',shape=[max_len])#step1\n",
        "    layer = Embedding(2000,300,input_length=max_len)(inputs) #step2\n",
        "    layer = GRU(64)(layer) #step3\n",
        "    layer = Dense(256,name='FC1')(layer) #step4\n",
        "    layer = Activation('relu')(layer) # step5\n",
        "    layer = Dropout(0.5)(layer) # step6\n",
        "    layer = Dense(1,name='out_layer')(layer) #step4 again but this time its giving only one output as because we need to classify the tweet as positive or negative\n",
        "    layer = Activation('sigmoid')(layer) #step5 but this time activation function is sigmoid for only one output.\n",
        "    model = Model(inputs=inputs,outputs=layer) #here we are getting the final output value in the model for classification\n",
        "    return model #function returning the value when we call it\n",
        "\n",
        "model = tensorflow_based_model() # here we are calling the function of created model\n",
        "model.compile(loss='binary_crossentropy',optimizer=RMSprop(),metrics=['accuracy'])"
      ],
      "metadata": {
        "id": "nFrCbZbOlNK0"
      },
      "execution_count": null,
      "outputs": []
    },
    {
      "cell_type": "code",
      "source": [
        "history=model.fit(X_train,Y_train,batch_size=2000,epochs=20, validation_split=0.1)# here we are starting the training of model by feeding the training data\n",
        "print('Training finished !!')"
      ],
      "metadata": {
        "colab": {
          "base_uri": "https://localhost:8080/"
        },
        "id": "luupHNO-lUgm",
        "outputId": "2b4078e4-88ac-4d45-bb05-80b88099e5b4"
      },
      "execution_count": null,
      "outputs": [
        {
          "output_type": "stream",
          "name": "stdout",
          "text": [
            "Epoch 1/20\n",
            "13/13 [==============================] - 6s 300ms/step - loss: 0.6920 - accuracy: 0.5308 - val_loss: 0.6903 - val_accuracy: 0.5518\n",
            "Epoch 2/20\n",
            "13/13 [==============================] - 3s 251ms/step - loss: 0.6874 - accuracy: 0.5822 - val_loss: 0.6817 - val_accuracy: 0.6032\n",
            "Epoch 3/20\n",
            "13/13 [==============================] - 3s 251ms/step - loss: 0.6720 - accuracy: 0.6155 - val_loss: 0.6529 - val_accuracy: 0.6489\n",
            "Epoch 4/20\n",
            "13/13 [==============================] - 4s 273ms/step - loss: 0.6264 - accuracy: 0.6645 - val_loss: 0.6015 - val_accuracy: 0.6771\n",
            "Epoch 5/20\n",
            "13/13 [==============================] - 4s 272ms/step - loss: 0.5839 - accuracy: 0.6972 - val_loss: 0.5652 - val_accuracy: 0.7129\n",
            "Epoch 6/20\n",
            "13/13 [==============================] - 3s 264ms/step - loss: 0.5466 - accuracy: 0.7325 - val_loss: 0.5613 - val_accuracy: 0.7100\n",
            "Epoch 7/20\n",
            "13/13 [==============================] - 4s 272ms/step - loss: 0.5424 - accuracy: 0.7332 - val_loss: 0.5403 - val_accuracy: 0.7254\n",
            "Epoch 8/20\n",
            "13/13 [==============================] - 3s 270ms/step - loss: 0.5153 - accuracy: 0.7560 - val_loss: 0.5216 - val_accuracy: 0.7396\n",
            "Epoch 9/20\n",
            "13/13 [==============================] - 3s 269ms/step - loss: 0.5135 - accuracy: 0.7530 - val_loss: 0.5240 - val_accuracy: 0.7368\n",
            "Epoch 10/20\n",
            "13/13 [==============================] - 4s 272ms/step - loss: 0.5046 - accuracy: 0.7596 - val_loss: 0.5192 - val_accuracy: 0.7375\n",
            "Epoch 11/20\n",
            "13/13 [==============================] - 4s 273ms/step - loss: 0.4965 - accuracy: 0.7666 - val_loss: 0.5162 - val_accuracy: 0.7404\n",
            "Epoch 12/20\n",
            "13/13 [==============================] - 4s 274ms/step - loss: 0.4889 - accuracy: 0.7735 - val_loss: 0.5545 - val_accuracy: 0.7100\n",
            "Epoch 13/20\n",
            "13/13 [==============================] - 4s 283ms/step - loss: 0.4879 - accuracy: 0.7742 - val_loss: 0.5154 - val_accuracy: 0.7464\n",
            "Epoch 14/20\n",
            "13/13 [==============================] - 4s 271ms/step - loss: 0.4796 - accuracy: 0.7794 - val_loss: 0.5732 - val_accuracy: 0.7232\n",
            "Epoch 15/20\n",
            "13/13 [==============================] - 3s 269ms/step - loss: 0.4792 - accuracy: 0.7798 - val_loss: 0.5231 - val_accuracy: 0.7321\n",
            "Epoch 16/20\n",
            "13/13 [==============================] - 3s 264ms/step - loss: 0.4738 - accuracy: 0.7844 - val_loss: 0.5490 - val_accuracy: 0.7136\n",
            "Epoch 17/20\n",
            "13/13 [==============================] - 3s 263ms/step - loss: 0.4747 - accuracy: 0.7821 - val_loss: 0.5186 - val_accuracy: 0.7379\n",
            "Epoch 18/20\n",
            "13/13 [==============================] - 4s 273ms/step - loss: 0.4661 - accuracy: 0.7877 - val_loss: 0.5195 - val_accuracy: 0.7400\n",
            "Epoch 19/20\n",
            "13/13 [==============================] - 3s 268ms/step - loss: 0.4609 - accuracy: 0.7929 - val_loss: 0.5149 - val_accuracy: 0.7579\n",
            "Epoch 20/20\n",
            "13/13 [==============================] - 3s 265ms/step - loss: 0.4614 - accuracy: 0.7926 - val_loss: 0.5133 - val_accuracy: 0.7568\n",
            "Training finished !!\n"
          ]
        }
      ]
    },
    {
      "cell_type": "code",
      "source": [
        "accr1 = model.evaluate(X_test,Y_test)\n",
        "print('Test set\\n  Accuracy: {:0.2f}'.format(accr1[1]))"
      ],
      "metadata": {
        "colab": {
          "base_uri": "https://localhost:8080/"
        },
        "id": "pbV6_HjMlX3_",
        "outputId": "80a4bc7a-9411-49f0-b253-961826c9d370"
      },
      "execution_count": null,
      "outputs": [
        {
          "output_type": "stream",
          "name": "stdout",
          "text": [
            "375/375 [==============================] - 3s 9ms/step - loss: 0.5145 - accuracy: 0.7603\n",
            "Test set\n",
            "  Accuracy: 0.76\n"
          ]
        }
      ]
    },
    {
      "cell_type": "markdown",
      "source": [
        "#### Method 3: Bi-LSTM"
      ],
      "metadata": {
        "id": "_1i11GfNlv-p"
      }
    },
    {
      "cell_type": "code",
      "source": [
        "from tensorflow.keras.layers import Input, Embedding, LSTM, Dense, Activation, Dropout, Bidirectional\n",
        "from tensorflow.keras.models import Model\n",
        "\n",
        "def tensorflow_based_model():\n",
        "    inputs = Input(name='inputs', shape=[max_len])  # Step 1\n",
        "    layer = Embedding(2000, 300, input_length=max_len)(inputs)  # Step 2\n",
        "    layer = Bidirectional(LSTM(64))(layer)  # Step 3, changed to BiLSTM\n",
        "    layer = Dense(256, name='FC1')(layer)  # Step 4\n",
        "    layer = Activation('relu')(layer)  # Step 5\n",
        "    layer = Dropout(0.5)(layer)  # Step 6\n",
        "    layer = Dense(1, name='out_layer')(layer)  # Step 4 again but this time it's giving only one output as we need to classify the tweet as positive or negative\n",
        "    layer = Activation('sigmoid')(layer)  # Step 5 but this time the activation function is sigmoid for only one output.\n",
        "    model = Model(inputs=inputs, outputs=layer)  # Here we are getting the final output value in the model for classification\n",
        "    return model  # Function returning the value when we call it"
      ],
      "metadata": {
        "id": "SuCGjzHcl1vs"
      },
      "execution_count": null,
      "outputs": []
    },
    {
      "cell_type": "code",
      "source": [
        "history=model.fit(X_train,Y_train,batch_size=2000,epochs=20, validation_split=0.1)# here we are starting the training of model by feeding the training data\n",
        "print('Training finished !!')"
      ],
      "metadata": {
        "colab": {
          "base_uri": "https://localhost:8080/"
        },
        "id": "JfCjpWyomBK1",
        "outputId": "fb3b1af2-6904-4676-d773-01c3d9c41d4f"
      },
      "execution_count": null,
      "outputs": [
        {
          "output_type": "stream",
          "name": "stdout",
          "text": [
            "Epoch 1/20\n",
            "13/13 [==============================] - 3s 264ms/step - loss: 0.4550 - accuracy: 0.7979 - val_loss: 0.5268 - val_accuracy: 0.7354\n",
            "Epoch 2/20\n",
            "13/13 [==============================] - 3s 259ms/step - loss: 0.4532 - accuracy: 0.7958 - val_loss: 0.5164 - val_accuracy: 0.7546\n",
            "Epoch 3/20\n",
            "13/13 [==============================] - 4s 274ms/step - loss: 0.4505 - accuracy: 0.7986 - val_loss: 0.5240 - val_accuracy: 0.7439\n",
            "Epoch 4/20\n",
            "13/13 [==============================] - 3s 264ms/step - loss: 0.4482 - accuracy: 0.8008 - val_loss: 0.5226 - val_accuracy: 0.7539\n",
            "Epoch 5/20\n",
            "13/13 [==============================] - 3s 260ms/step - loss: 0.4432 - accuracy: 0.8032 - val_loss: 0.5143 - val_accuracy: 0.7504\n",
            "Epoch 6/20\n",
            "13/13 [==============================] - 3s 265ms/step - loss: 0.4405 - accuracy: 0.8068 - val_loss: 0.5171 - val_accuracy: 0.7586\n",
            "Epoch 7/20\n",
            "13/13 [==============================] - 4s 279ms/step - loss: 0.4357 - accuracy: 0.8073 - val_loss: 0.5236 - val_accuracy: 0.7461\n",
            "Epoch 8/20\n",
            "13/13 [==============================] - 3s 265ms/step - loss: 0.4355 - accuracy: 0.8071 - val_loss: 0.5273 - val_accuracy: 0.7575\n",
            "Epoch 9/20\n",
            "13/13 [==============================] - 3s 262ms/step - loss: 0.4337 - accuracy: 0.8080 - val_loss: 0.5317 - val_accuracy: 0.7418\n",
            "Epoch 10/20\n",
            "13/13 [==============================] - 4s 270ms/step - loss: 0.4286 - accuracy: 0.8104 - val_loss: 0.5228 - val_accuracy: 0.7600\n",
            "Epoch 11/20\n",
            "13/13 [==============================] - 3s 260ms/step - loss: 0.4221 - accuracy: 0.8149 - val_loss: 0.5269 - val_accuracy: 0.7561\n",
            "Epoch 12/20\n",
            "13/13 [==============================] - 3s 258ms/step - loss: 0.4205 - accuracy: 0.8171 - val_loss: 0.5299 - val_accuracy: 0.7518\n",
            "Epoch 13/20\n",
            "13/13 [==============================] - 3s 260ms/step - loss: 0.4170 - accuracy: 0.8158 - val_loss: 0.5342 - val_accuracy: 0.7582\n",
            "Epoch 14/20\n",
            "13/13 [==============================] - 3s 259ms/step - loss: 0.4135 - accuracy: 0.8186 - val_loss: 0.5479 - val_accuracy: 0.7375\n",
            "Epoch 15/20\n",
            "13/13 [==============================] - 3s 254ms/step - loss: 0.4091 - accuracy: 0.8212 - val_loss: 0.5454 - val_accuracy: 0.7496\n",
            "Epoch 16/20\n",
            "13/13 [==============================] - 3s 253ms/step - loss: 0.4106 - accuracy: 0.8179 - val_loss: 0.5433 - val_accuracy: 0.7557\n",
            "Epoch 17/20\n",
            "13/13 [==============================] - 3s 267ms/step - loss: 0.3984 - accuracy: 0.8279 - val_loss: 0.5476 - val_accuracy: 0.7511\n",
            "Epoch 18/20\n",
            "13/13 [==============================] - 3s 253ms/step - loss: 0.3963 - accuracy: 0.8273 - val_loss: 0.5621 - val_accuracy: 0.7586\n",
            "Epoch 19/20\n",
            "13/13 [==============================] - 3s 255ms/step - loss: 0.3959 - accuracy: 0.8282 - val_loss: 0.5502 - val_accuracy: 0.7532\n",
            "Epoch 20/20\n",
            "13/13 [==============================] - 3s 253ms/step - loss: 0.3898 - accuracy: 0.8303 - val_loss: 0.5552 - val_accuracy: 0.7496\n",
            "Training finished !!\n"
          ]
        }
      ]
    },
    {
      "cell_type": "code",
      "source": [
        "accr1 = model.evaluate(X_test,Y_test)\n",
        "print('Test set\\n  Accuracy: {:0.2f}'.format(accr1[1]))"
      ],
      "metadata": {
        "colab": {
          "base_uri": "https://localhost:8080/"
        },
        "id": "hWFUKzwkmDgl",
        "outputId": "f3fbffa8-8dcc-45e2-8c9d-dbd581458fe4"
      },
      "execution_count": null,
      "outputs": [
        {
          "output_type": "stream",
          "name": "stdout",
          "text": [
            "375/375 [==============================] - 3s 8ms/step - loss: 0.5371 - accuracy: 0.7569\n",
            "Test set\n",
            "  Accuracy: 0.76\n"
          ]
        }
      ]
    },
    {
      "cell_type": "markdown",
      "source": [
        "### Section 4: Result Analysis"
      ],
      "metadata": {
        "id": "7gfp0rqcmHkw"
      }
    },
    {
      "cell_type": "code",
      "source": [
        "y_pred = model.predict(X_test) # getting predictions on the trained model\n",
        "y_pred = (y_pred > 0.5)"
      ],
      "metadata": {
        "colab": {
          "base_uri": "https://localhost:8080/"
        },
        "id": "g5zFWyuj82us",
        "outputId": "4de95b5d-809d-4406-d420-1102b00c5abb"
      },
      "execution_count": null,
      "outputs": [
        {
          "output_type": "stream",
          "name": "stdout",
          "text": [
            "375/375 [==============================] - 4s 10ms/step\n"
          ]
        }
      ]
    },
    {
      "cell_type": "code",
      "source": [
        "print('\\n')\n",
        "print(\"confusion matrix\")\n",
        "print('\\n')\n",
        "CR=confusion_matrix(Y_test, y_pred)\n",
        "print(CR)\n",
        "print('\\n')\n",
        "\n",
        "fig, ax = plot_confusion_matrix(conf_mat=CR,figsize=(10, 10),\n",
        "                                show_absolute=True,\n",
        "                                show_normed=True,\n",
        "                                colorbar=True)\n",
        "plt.show()"
      ],
      "metadata": {
        "colab": {
          "base_uri": "https://localhost:8080/",
          "height": 968
        },
        "id": "09k8oM4h88T9",
        "outputId": "751a12c8-6b6a-4619-b9c3-f20ec95bae5a"
      },
      "execution_count": null,
      "outputs": [
        {
          "output_type": "stream",
          "name": "stdout",
          "text": [
            "\n",
            "\n",
            "confusion matrix\n",
            "\n",
            "\n",
            "[[4262 1747]\n",
            " [1121 4870]]\n",
            "\n",
            "\n"
          ]
        },
        {
          "output_type": "display_data",
          "data": {
            "text/plain": [
              "<Figure size 1000x1000 with 2 Axes>"
            ],
            "image/png": "[encoded data removed]"
          },
          "metadata": {}
        }
      ]
    },
    {
      "cell_type": "code",
      "source": [
        "fpr, tpr, thresholds = roc_curve(Y_test, y_pred)\n",
        "roc_auc = auc(fpr, tpr)\n",
        "plt.figure()\n",
        "plt.plot(fpr, tpr, color='darkorange', lw=1, label='ROC curve (area = %0.2f)' % roc_auc)\n",
        "plt.xlim([0.0, 1.0])\n",
        "plt.ylim([0.0, 1.05])\n",
        "plt.xlabel('False Positive Rate')\n",
        "plt.ylabel('True Positive Rate')\n",
        "plt.title('ROC CURVE')\n",
        "plt.legend(loc=\"lower right\")\n",
        "plt.show()"
      ],
      "metadata": {
        "colab": {
          "base_uri": "https://localhost:8080/",
          "height": 477
        },
        "id": "REK0GFB09Qcl",
        "outputId": "1dc5c229-8277-4a17-a2a5-25eecfed86c1"
      },
      "execution_count": null,
      "outputs": [
        {
          "output_type": "display_data",
          "data": {
            "text/plain": [
              "<Figure size 640x480 with 1 Axes>"
            ],
            "image/png": "[encoded data removed]"
          },
          "metadata": {}
        }
      ]
    }
  ]
}